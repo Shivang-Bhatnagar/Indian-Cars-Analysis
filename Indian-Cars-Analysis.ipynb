{
 "cells": [
  {
   "cell_type": "markdown",
   "metadata": {},
   "source": [
    "# Import the libraries"
   ]
  },
  {
   "cell_type": "code",
   "execution_count": null,
   "metadata": {},
   "outputs": [],
   "source": [
    "import pandas as pd\n",
    "import seaborn as sns\n",
    "import numpy as np"
   ]
  },
  {
   "cell_type": "markdown",
   "metadata": {},
   "source": [
    "# Load the dataset"
   ]
  },
  {
   "cell_type": "code",
   "execution_count": null,
   "metadata": {},
   "outputs": [],
   "source": [
    "cars = pd.read_csv(\"OneDrive/Desktop/Week_6/Week 6 - Indian Cars/cars_ds_final.csv\")"
   ]
  },
  {
   "cell_type": "markdown",
   "metadata": {},
   "source": [
    "# Let's describe the data"
   ]
  },
  {
   "cell_type": "code",
   "execution_count": null,
   "metadata": {},
   "outputs": [],
   "source": [
    "cars.head()"
   ]
  },
  {
   "cell_type": "code",
   "execution_count": null,
   "metadata": {},
   "outputs": [],
   "source": [
    "cars.tail()"
   ]
  },
  {
   "cell_type": "code",
   "execution_count": null,
   "metadata": {},
   "outputs": [],
   "source": [
    "cars.info()"
   ]
  },
  {
   "cell_type": "code",
   "execution_count": null,
   "metadata": {},
   "outputs": [],
   "source": [
    "cars.dtypes"
   ]
  },
  {
   "cell_type": "markdown",
   "metadata": {},
   "source": [
    "# Checking if there are null values"
   ]
  },
  {
   "cell_type": "code",
   "execution_count": null,
   "metadata": {},
   "outputs": [],
   "source": [
    "cars.isna().sum()"
   ]
  },
  {
   "cell_type": "code",
   "execution_count": null,
   "metadata": {},
   "outputs": [],
   "source": [
    "len(cars['Make'].unique())"
   ]
  },
  {
   "cell_type": "code",
   "execution_count": null,
   "metadata": {},
   "outputs": [],
   "source": [
    "cars.describe()"
   ]
  },
  {
   "cell_type": "code",
   "execution_count": null,
   "metadata": {},
   "outputs": [],
   "source": [
    "null_percentage = cars.isnull().mean()*100\n",
    "print(null_percentage)"
   ]
  },
  {
   "cell_type": "markdown",
   "metadata": {},
   "source": [
    "## Cleaning the dataset\n",
    "\n",
    "### Dropping unnecessary columns"
   ]
  },
  {
   "cell_type": "code",
   "execution_count": null,
   "metadata": {},
   "outputs": [],
   "source": [
    "columns_to_drop = null_percentage[null_percentage > 80].index.tolist()\n",
    "print(columns_to_drop)"
   ]
  },
  {
   "cell_type": "code",
   "execution_count": null,
   "metadata": {},
   "outputs": [],
   "source": [
    "cars.drop(columns = columns_to_drop,inplace=True)"
   ]
  },
  {
   "cell_type": "code",
   "execution_count": null,
   "metadata": {},
   "outputs": [],
   "source": [
    "cars.info()"
   ]
  },
  {
   "cell_type": "code",
   "execution_count": null,
   "metadata": {},
   "outputs": [],
   "source": [
    "Null_50 = cars.isna().mean()*100"
   ]
  },
  {
   "cell_type": "code",
   "execution_count": null,
   "metadata": {},
   "outputs": [],
   "source": [
    "drop_columns = Null_50[Null_50 > 50].index.tolist()\n",
    "print(drop_columns)"
   ]
  },
  {
   "cell_type": "code",
   "execution_count": null,
   "metadata": {},
   "outputs": [],
   "source": [
    "cars.drop(columns = drop_columns,inplace=True)"
   ]
  },
  {
   "cell_type": "code",
   "execution_count": null,
   "metadata": {},
   "outputs": [],
   "source": [
    "cars.info()"
   ]
  },
  {
   "cell_type": "code",
   "execution_count": null,
   "metadata": {},
   "outputs": [],
   "source": [
    "cars.isnull().sum()"
   ]
  },
  {
   "cell_type": "code",
   "execution_count": null,
   "metadata": {},
   "outputs": [],
   "source": [
    "cars['car'] = cars.Make + ' ' + cars.Model"
   ]
  },
  {
   "cell_type": "code",
   "execution_count": null,
   "metadata": {},
   "outputs": [],
   "source": [
    "cars['Ex-Showroom_Price'] = cars['Ex-Showroom_Price'].str.replace('Rs. ','',regex=False)\n",
    "cars['Ex-Showroom_Price'] = cars['Ex-Showroom_Price'].str.replace(',','',regex=False)\n",
    "cars['Ex-Showroom_Price'] = cars['Ex-Showroom_Price'].astype(int)"
   ]
  },
  {
   "cell_type": "code",
   "execution_count": null,
   "metadata": {},
   "outputs": [],
   "source": [
    "cars = cars[~cars.ARAI_Certified_Mileage.isnull()]\n",
    "cars = cars[~cars.Make.isnull()]\n",
    "cars = cars[~cars.Width.isnull()]\n",
    "cars = cars[~cars.Cylinders.isnull()]\n",
    "cars = cars[~cars.Wheelbase.isnull()]\n",
    "cars = cars[~cars['Fuel_Tank_Capacity'].isnull()]\n",
    "cars = cars[~cars['Seating_Capacity'].isnull()]\n",
    "cars = cars[~cars['Torque'].isnull()]"
   ]
  },
  {
   "cell_type": "markdown",
   "metadata": {},
   "source": [
    "## Changing the datatypes of features"
   ]
  },
  {
   "cell_type": "code",
   "execution_count": null,
   "metadata": {},
   "outputs": [],
   "source": [
    "cars['Height'] = cars['Height'].str.replace(' mm','',regex=False).astype(float)\n",
    "cars['Length'] = cars['Length'].str.replace(' mm','',regex=False).astype(float)\n",
    "cars['Width'] = cars['Width'].str.replace(' mm','',regex=False).astype(float)\n",
    "cars['Wheelbase'] = cars['Wheelbase'].str.replace(' mm','',regex=False).astype(float)\n",
    "cars['Fuel_Tank_Capacity'] = cars['Fuel_Tank_Capacity'].str.replace(' litres','',regex=False).astype(float)\n",
    "cars['Displacement'] = cars['Displacement'].str.replace(' cc','',regex=False)"
   ]
  },
  {
   "cell_type": "code",
   "execution_count": null,
   "metadata": {},
   "outputs": [],
   "source": [
    "cars['ARAI_Certified_Mileage'] = cars['ARAI_Certified_Mileage'].replace('9.8-10.0 km/litre', '10')\n",
    "cars['ARAI_Certified_Mileage'] = cars['ARAI_Certified_Mileage'].replace('10kmpl km/litre', '10')"
   ]
  },
  {
   "cell_type": "code",
   "execution_count": null,
   "metadata": {},
   "outputs": [],
   "source": [
    "cars['ARAI_Certified_Mileage'] = cars['ARAI_Certified_Mileage'].str.replace(' km/litre','',regex=False).astype(float)\n",
    "cars.Number_of_Airbags.fillna(0,inplace= True)\n",
    "cars['price'] = cars['Ex-Showroom_Price'] * 0.014\n",
    "cars.drop(columns='Ex-Showroom_Price', inplace= True)\n",
    "cars.price = cars.price.astype(int)"
   ]
  },
  {
   "cell_type": "code",
   "execution_count": null,
   "metadata": {},
   "outputs": [],
   "source": [
    "Horse_power = cars.Power.str.extract(r'(\\d{1,4}).*').astype(int) * 0.98632\n",
    "Horse_power = Horse_power.apply(lambda x: round(x,2))\n",
    "Torque = cars.Torque.str.extract(r'(\\d{1,4}).*').astype(int)\n",
    "Torque = Torque.apply(lambda x: round(x,2))\n",
    "cars.Power = Horse_power"
   ]
  },
  {
   "cell_type": "code",
   "execution_count": null,
   "metadata": {},
   "outputs": [],
   "source": [
    "cars.Doors = cars.Doors.astype(int)\n",
    "cars.Seating_Capacity = cars.Seating_Capacity.astype(int)\n",
    "cars.Number_of_Airbags = cars.Number_of_Airbags.astype(int)\n",
    "cars.Displacement = cars.Displacement.astype(int)\n",
    "cars.Cylinders = cars.Cylinders.astype(int)"
   ]
  },
  {
   "cell_type": "code",
   "execution_count": null,
   "metadata": {},
   "outputs": [],
   "source": [
    "cars.info()"
   ]
  },
  {
   "cell_type": "code",
   "execution_count": null,
   "metadata": {},
   "outputs": [],
   "source": [
    "cars.isnull().sum()"
   ]
  },
  {
   "cell_type": "code",
   "execution_count": null,
   "metadata": {},
   "outputs": [],
   "source": [
    "Null_percentage = cars.isnull().mean()*100\n",
    "column_to_drop = Null_percentage[Null_percentage > 10].index.tolist()\n",
    "print(column_to_drop)"
   ]
  },
  {
   "cell_type": "code",
   "execution_count": null,
   "metadata": {},
   "outputs": [],
   "source": [
    "cars.drop(columns = column_to_drop,inplace=True)"
   ]
  },
  {
   "cell_type": "code",
   "execution_count": null,
   "metadata": {},
   "outputs": [],
   "source": [
    "cars.info()"
   ]
  },
  {
   "cell_type": "code",
   "execution_count": null,
   "metadata": {},
   "outputs": [],
   "source": [
    "cars.isnull().sum()"
   ]
  },
  {
   "cell_type": "code",
   "execution_count": null,
   "metadata": {},
   "outputs": [],
   "source": [
    "cars.columns"
   ]
  },
  {
   "cell_type": "code",
   "execution_count": null,
   "metadata": {},
   "outputs": [],
   "source": [
    "col_to_drop = ['Clock', 'Cup_Holders', 'Door_Pockets',\n",
    "       'Engine_Malfunction_Light', 'Fuel-lid_Opener', 'Fuel_Gauge',\n",
    "       'Handbrake', 'Instrument_Console', 'Low_Fuel_Warning',\n",
    "       'Multifunction_Display', 'Sun_Visor', 'Ventilation_System',\n",
    "       'Engine_Immobilizer', 'ABS_(Anti-lock_Braking_System)','Wheels_Size', 'Audiosystem', 'Boot-lid_Opener', 'Central_Locking','Odometer', 'Speedometer', 'Tachometer', 'Tripmeter','Front_Tyre_&_Rim',\n",
    "       'Rear_Tyre_&_Rim', 'Power_Steering', 'Power_Windows','Front_Brakes', 'Rear_Brakes',\n",
    "       'Front_Suspension', 'Rear_Suspension','Height', 'Length', 'Width','Unnamed: 0']"
   ]
  },
  {
   "cell_type": "code",
   "execution_count": null,
   "metadata": {},
   "outputs": [],
   "source": [
    "cars.drop(columns = col_to_drop,inplace = True)"
   ]
  },
  {
   "cell_type": "code",
   "execution_count": null,
   "metadata": {},
   "outputs": [],
   "source": [
    "cars.columns"
   ]
  },
  {
   "cell_type": "code",
   "execution_count": null,
   "metadata": {},
   "outputs": [],
   "source": [
    "cars.isna().sum()"
   ]
  },
  {
   "cell_type": "markdown",
   "metadata": {},
   "source": [
    "## Fill the Null values with Not Available"
   ]
  },
  {
   "cell_type": "code",
   "execution_count": null,
   "metadata": {},
   "outputs": [],
   "source": [
    "cars.fillna('Not Available',inplace=True)"
   ]
  },
  {
   "cell_type": "code",
   "execution_count": null,
   "metadata": {},
   "outputs": [],
   "source": [
    "cars['Make'].value_counts()"
   ]
  },
  {
   "cell_type": "code",
   "execution_count": null,
   "metadata": {},
   "outputs": [],
   "source": [
    "cars['Make'].replace('Maruti Suzuki R','Maruti Suzuki',inplace=True)"
   ]
  },
  {
   "cell_type": "code",
   "execution_count": null,
   "metadata": {},
   "outputs": [],
   "source": [
    "cars['Make'].replace('Land Rover Rover','Land Rover',inplace=True)"
   ]
  },
  {
   "cell_type": "code",
   "execution_count": null,
   "metadata": {},
   "outputs": [],
   "source": [
    "cars['Model'].value_counts()"
   ]
  },
  {
   "cell_type": "markdown",
   "metadata": {},
   "source": [
    "# Univariate Analysis"
   ]
  },
  {
   "cell_type": "code",
   "execution_count": null,
   "metadata": {},
   "outputs": [],
   "source": [
    "fig,(ax1) = plt.subplots(1,figsize=(14,6))\n",
    "sns.histplot(data=cars, x='price',bins=50, alpha=.6, color='darkblue', ax=ax1)\n",
    "ax12 = ax1.twinx()\n",
    "sns.kdeplot(data=cars, x='price', alpha=.2,fill= True,color=\"#254b7f\",ax=ax12,linewidth=0)\n",
    "ax12.grid()\n",
    "ax1.set_title('Histogram of cars price data',fontsize=16)\n",
    "ax1.set_xlabel('')\n",
    "ax1.xaxis.set_tick_params(labelsize=14)"
   ]
  },
  {
   "cell_type": "code",
   "execution_count": null,
   "metadata": {},
   "outputs": [],
   "source": [
    "import seaborn as sns\n",
    "import matplotlib.pyplot as plt\n",
    "\n",
    "# Set the style of the seaborn plot\n",
    "sns.set(style=\"whitegrid\")\n",
    "\n",
    "# Create subplots with 1 row and 2 columns\n",
    "fig, axes = plt.subplots(1, 2, figsize=(12, 6))\n",
    "\n",
    "# Plot the bar chart for 'Model'\n",
    "sns.countplot(data=cars, y='Model', order=cars['Model'].value_counts().head(10).index, ax=axes[0])\n",
    "axes[0].set_title('Top 10 Car Models')\n",
    "axes[0].set_ylabel('Model')\n",
    "\n",
    "# Plot the bar chart for 'Make'\n",
    "sns.countplot(data=cars, y='Make', order=cars['Make'].value_counts().head(10).index, ax=axes[1])\n",
    "axes[1].set_title('Top 10 Car Manufacturers')\n",
    "axes[1].set_ylabel('Manufacturer')\n",
    "\n",
    "# Adjust layout\n",
    "plt.tight_layout()\n",
    "\n",
    "# Show the plot\n",
    "plt.show()\n",
    "\n"
   ]
  },
  {
   "cell_type": "code",
   "execution_count": null,
   "metadata": {},
   "outputs": [],
   "source": [
    "# Set the style of the seaborn plot\n",
    "sns.set(style=\"whitegrid\")\n",
    "\n",
    "# Define the columns to plot\n",
    "columns_to_plot = ['Variant', 'Drivetrain', 'Body_Type', 'Fuel_Type']\n",
    "\n",
    "# Create subplots\n",
    "fig, axes = plt.subplots(2, 2, figsize=(14, 10))\n",
    "\n",
    "# Plot bar charts for each column\n",
    "for i, column in enumerate(columns_to_plot):\n",
    "    row_index = i // 2  # Calculate the row index\n",
    "    col_index = i % 2   # Calculate the column index\n",
    "    top_categories = cars[column].value_counts().head(5).index\n",
    "    sns.countplot(data=cars[cars[column].isin(top_categories)], y=column, ax=axes[row_index, col_index], order=top_categories)\n",
    "    axes[row_index, col_index].set_ylabel(column)\n",
    "    axes[row_index, col_index].set_xlabel('Count')\n",
    "    axes[row_index, col_index].set_title(f'Top 5 {column}')\n",
    "\n",
    "# Adjust layout\n",
    "plt.tight_layout()\n",
    "\n",
    "# Show the plot\n",
    "plt.show()\n"
   ]
  },
  {
   "cell_type": "code",
   "execution_count": null,
   "metadata": {},
   "outputs": [],
   "source": [
    "# Create the box plot for the 'price' column\n",
    "plt.figure(figsize=(10, 6))\n",
    "sns.boxplot(x=cars['price'])\n",
    "plt.title('Box Plot of Price')\n",
    "plt.xlabel('Price')\n",
    "plt.show()\n",
    "\n"
   ]
  },
  {
   "cell_type": "code",
   "execution_count": null,
   "metadata": {},
   "outputs": [],
   "source": [
    "# Get the value counts for the 'Model' column and select top 5\n",
    "top_model_counts = cars['Model'].value_counts().head(5)\n",
    "\n",
    "# Get the value counts for the 'Make' column and select top 5\n",
    "top_make_counts = cars['Make'].value_counts().head(5)\n",
    "\n",
    "# Create subplots with 1 row and 2 columns\n",
    "fig, axes = plt.subplots(1, 2, figsize=(12, 6))\n",
    "\n",
    "# Plot the first pie chart for 'Model'\n",
    "axes[0].pie(top_model_counts, labels=top_model_counts.index, autopct='%1.1f%%', startangle=140)\n",
    "axes[0].set_title('Top 5 Car Models')\n",
    "\n",
    "# Plot the second pie chart for 'Make'\n",
    "axes[1].pie(top_make_counts, labels=top_make_counts.index, autopct='%1.1f%%', startangle=140)\n",
    "axes[1].set_title('Top 5 Car Manufacturers')\n",
    "\n",
    "# Adjust layout\n",
    "plt.tight_layout()\n",
    "\n",
    "# Show the plot\n",
    "plt.show()"
   ]
  },
  {
   "cell_type": "markdown",
   "metadata": {},
   "source": [
    "# Bivariate Analysis\n",
    "\n",
    "\n",
    "## Correlation Analysis"
   ]
  },
  {
   "cell_type": "code",
   "execution_count": null,
   "metadata": {},
   "outputs": [],
   "source": [
    "# Select only numeric columns from the dataset\n",
    "numeric_columns = cars.select_dtypes(include=['int', 'float'])\n",
    "\n",
    "# Compute the correlation matrix\n",
    "corr_matrix = numeric_columns.corr()\n",
    "\n",
    "plt.figure(figsize=(12, 10))\n",
    "\n",
    "sns.heatmap(corr_matrix, annot=True, cmap='coolwarm', fmt=\".2f\", linewidths=0.5)\n",
    "\n",
    "plt.title('Correlation Matrix of Numeric Variables')\n",
    "\n",
    "plt.show()\n"
   ]
  },
  {
   "cell_type": "code",
   "execution_count": null,
   "metadata": {},
   "outputs": [],
   "source": [
    "x_column = 'Displacement'  \n",
    "y_column = 'price'         \n",
    "\n",
    "plt.figure(figsize=(14,8))\n",
    "# Create scatter plot\n",
    "sns.scatterplot(data=cars, x=x_column, y=y_column, alpha=0.7)\n",
    "plt.title(f'Scatter Plot of {x_column} vs. {y_column}',fontweight = 'bold')\n",
    "plt.xlabel(x_column)\n",
    "plt.ylabel(y_column)\n",
    "plt.show()\n"
   ]
  },
  {
   "cell_type": "code",
   "execution_count": null,
   "metadata": {},
   "outputs": [],
   "source": [
    "x_column = 'Power'  \n",
    "y_column = 'price'         \n",
    "\n",
    "plt.figure(figsize=(14,8))\n",
    "# Create scatter plot\n",
    "sns.scatterplot(data=cars, x=x_column, y=y_column, alpha=0.7)\n",
    "plt.title(f'Scatter Plot of {x_column} vs. {y_column}',fontweight = 'bold')\n",
    "plt.xlabel(x_column)\n",
    "plt.ylabel(y_column)\n",
    "plt.show()"
   ]
  },
  {
   "cell_type": "code",
   "execution_count": null,
   "metadata": {},
   "outputs": [],
   "source": [
    "plt.figure(figsize=(14,6))\n",
    "sns.histplot(data=cars, x='Power',alpha=.6, color='darkblue')\n",
    "plt.title('Cars by engine size (in CC)',fontsize=18);\n",
    "plt.xticks(fontsize=13);\n",
    "plt.yticks(fontsize=13);"
   ]
  },
  {
   "cell_type": "code",
   "execution_count": null,
   "metadata": {},
   "outputs": [],
   "source": [
    "plt.figure(figsize=(11,6))\n",
    "sns.countplot(data=cars, x='Fuel_Type',alpha=.6, color='darkblue')\n",
    "plt.title('Cars count by engine fuel type',fontsize=18)\n",
    "plt.xlabel('Fuel Type', fontsize=16)\n",
    "plt.xticks(fontsize=14)\n",
    "plt.yticks(fontsize=14)\n",
    "plt.ylabel('');"
   ]
  },
  {
   "cell_type": "code",
   "execution_count": null,
   "metadata": {},
   "outputs": [],
   "source": [
    "plt.figure(figsize=(12, 8))\n",
    "sns.pairplot(cars,vars=[ 'Displacement', 'ARAI_Certified_Mileage', 'Power', 'price'], hue= 'Fuel_Type',\n",
    "             palette=sns.color_palette('magma',n_colors=4),diag_kind='kde',height=2, aspect=1.8);\n",
    "plt.suptitle('Pair Plot of Numeric Variables', y=1.02, fontsize=16,fontweight = 'bold')  # Adjusting title position\n",
    "plt.show()"
   ]
  },
  {
   "cell_type": "code",
   "execution_count": null,
   "metadata": {},
   "outputs": [],
   "source": [
    "x_column = 'ARAI_Certified_Mileage'  \n",
    "y_column = 'price'         \n",
    "plt.figure(figsize=(10,8))\n",
    "ax= fig.add_subplot()\n",
    "sns.jointplot(data=cars, x=x_column, y=y_column,kind= 'reg',ax=ax,palette='viridis',height=8,  ratio=7)\n",
    "plt.xlabel(x_column)\n",
    "plt.ylabel(y_column)\n",
    "plt.show()"
   ]
  },
  {
   "cell_type": "code",
   "execution_count": null,
   "metadata": {},
   "outputs": [],
   "source": [
    "top_makes = cars['Make'].value_counts().head(5).index\n",
    "filtered_cars = cars[cars['Make'].isin(top_makes)]\n",
    "plt.figure(figsize=(12,8))\n",
    "sns.countplot(data=filtered_cars, x='Make', hue='Fuel_Type')\n",
    "plt.title('Count of Top 5 Cars by Manufactures and Fuel Type')\n",
    "plt.xlabel('Make')\n",
    "plt.ylabel('Count')\n",
    "plt.xticks(rotation=45) \n",
    "plt.legend(title='Fuel Type')  \n",
    "plt.show()"
   ]
  },
  {
   "cell_type": "code",
   "execution_count": null,
   "metadata": {},
   "outputs": [],
   "source": [
    "top_manufacturers = cars['Make'].value_counts().head(5).index\n",
    "top_body_types = cars['Body_Type'].value_counts().head(4).index\n",
    "filtered_cars = cars[(cars['Make'].isin(top_manufacturers)) & (cars['Body_Type'].isin(top_body_types))]\n",
    "plt.figure(figsize=(12,8))\n",
    "sns.stripplot(data=filtered_cars, x='Make', y='price', hue='Body_Type')\n",
    "plt.title('Price by Manufacturer and Body Type')\n",
    "plt.xlabel('Manufacturer')\n",
    "plt.ylabel('Price')\n",
    "plt.xticks(rotation=45)  # Rotate x-axis labels for better readability\n",
    "plt.show()"
   ]
  },
  {
   "cell_type": "code",
   "execution_count": null,
   "metadata": {},
   "outputs": [],
   "source": []
  }
 ],
 "metadata": {
  "kernelspec": {
   "display_name": "Python 3",
   "language": "python",
   "name": "python3"
  },
  "language_info": {
   "codemirror_mode": {
    "name": "ipython",
    "version": 3
   },
   "file_extension": ".py",
   "mimetype": "text/x-python",
   "name": "python",
   "nbconvert_exporter": "python",
   "pygments_lexer": "ipython3",
   "version": "3.8.3"
  }
 },
 "nbformat": 4,
 "nbformat_minor": 4
}
